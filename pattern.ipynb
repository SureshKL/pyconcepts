{
 "cells": [
  {
   "cell_type": "markdown",
   "metadata": {},
   "source": [
    "# Patterns"
   ]
  },
  {
   "cell_type": "code",
   "execution_count": 106,
   "metadata": {},
   "outputs": [],
   "source": [
    "n = 5  # The size of the shape (technically - it is the no. of rows)\n",
    "char = '*'  # The character used to draw the shape\n",
    "fillchar = ' '  # The char to be filled in the gap (Default: Space char)"
   ]
  },
  {
   "cell_type": "code",
   "execution_count": 107,
   "metadata": {},
   "outputs": [
    {
     "name": "stdout",
     "output_type": "stream",
     "text": [
      "*    \n",
      "**   \n",
      "***  \n",
      "**** \n",
      "*****\n"
     ]
    }
   ],
   "source": [
    "def staircase_left(n):    \n",
    "    for i in range(1, n + 1):        \n",
    "        chars = char * i\n",
    "        print(chars.ljust(n, fillchar))\n",
    "        \n",
    "staircase_left(n)"
   ]
  },
  {
   "cell_type": "code",
   "execution_count": 108,
   "metadata": {},
   "outputs": [
    {
     "name": "stdout",
     "output_type": "stream",
     "text": [
      "    *\n",
      "   **\n",
      "  ***\n",
      " ****\n",
      "*****\n"
     ]
    }
   ],
   "source": [
    "def staircase_right(n):    \n",
    "    for i in range(1, n + 1):        \n",
    "        chars = char * i\n",
    "        print(chars.rjust(n, fillchar))\n",
    "\n",
    "staircase_right(n)"
   ]
  },
  {
   "cell_type": "code",
   "execution_count": 109,
   "metadata": {},
   "outputs": [
    {
     "name": "stdout",
     "output_type": "stream",
     "text": [
      "*****\n",
      "**** \n",
      "***  \n",
      "**   \n",
      "*    \n"
     ]
    }
   ],
   "source": [
    "def staircase_inverted_left(n):    \n",
    "    for i in range(n, 0, -1):        \n",
    "        chars = char * i\n",
    "        print(chars.ljust(n, fillchar))\n",
    "        \n",
    "staircase_inverted_left(n)"
   ]
  },
  {
   "cell_type": "code",
   "execution_count": 110,
   "metadata": {},
   "outputs": [
    {
     "name": "stdout",
     "output_type": "stream",
     "text": [
      "*****\n",
      " ****\n",
      "  ***\n",
      "   **\n",
      "    *\n"
     ]
    }
   ],
   "source": [
    "def staircase_inverted_right(n):    \n",
    "    for i in range(n, 0, -1):        \n",
    "        chars = char * i\n",
    "        print(chars.rjust(n, fillchar))\n",
    "        \n",
    "staircase_inverted_right(n)"
   ]
  },
  {
   "cell_type": "code",
   "execution_count": 111,
   "metadata": {},
   "outputs": [
    {
     "name": "stdout",
     "output_type": "stream",
     "text": [
      "* * * * * \n",
      "* * * * * \n",
      "* * * * * \n",
      "* * * * * \n",
      "* * * * * \n"
     ]
    }
   ],
   "source": [
    "def square_solid(n):\n",
    "    for _ in range(n):\n",
    "        print(f'{char}{fillchar}' * n)\n",
    "\n",
    "square_solid(n)"
   ]
  },
  {
   "cell_type": "code",
   "execution_count": 112,
   "metadata": {},
   "outputs": [
    {
     "name": "stdout",
     "output_type": "stream",
     "text": [
      "* * * * * \n",
      "*       *\n",
      "*       *\n",
      "*       *\n",
      "* * * * * \n"
     ]
    }
   ],
   "source": [
    "def square_hollow(n):\n",
    "    if n < 4:\n",
    "        raise ValueError('Size cannot be < 4')\n",
    "\n",
    "    first_or_last_row = f'{char}{fillchar}' * n    \n",
    "    print(first_or_last_row)  # First row\n",
    "\n",
    "    # Rows in between\n",
    "    for _ in range(1, n-1):\n",
    "        print(char + ' ' * (n*2-3) + char)  # minus -3 for two chars at left and right end + a space char at R.H.S\n",
    "    \n",
    "    print(first_or_last_row)  # Last row\n",
    "\n",
    "        \n",
    "square_hollow(n)"
   ]
  },
  {
   "cell_type": "code",
   "execution_count": 113,
   "metadata": {},
   "outputs": [
    {
     "name": "stdout",
     "output_type": "stream",
     "text": [
      "    *     \n",
      "   * *    \n",
      "  * * *   \n",
      " * * * *  \n",
      "* * * * * \n"
     ]
    }
   ],
   "source": [
    "def triangle_solid(n):\n",
    "    if n < 2:\n",
    "        raise ValueError('Size cannot be < 2')\n",
    "\n",
    "    width = n * 2  # With extra space char included, width should be doubled\n",
    "    \n",
    "    for i in range(1, n+1):\n",
    "        chars = f'{char}{fillchar}' * i\n",
    "        print(str(chars).center(width, fillchar))\n",
    "\n",
    "triangle_solid(n)"
   ]
  },
  {
   "cell_type": "code",
   "execution_count": 114,
   "metadata": {},
   "outputs": [
    {
     "name": "stdout",
     "output_type": "stream",
     "text": [
      "    *     \n",
      "   * *    \n",
      "  *   *   \n",
      " *     *  \n",
      "* * * * * \n"
     ]
    }
   ],
   "source": [
    "def triangle_hollow(n):\n",
    "    if n < 2:\n",
    "        raise ValueError('Size cannot be < 2')\n",
    "\n",
    "    counter = 1  # Counter to fill hollow space inside triangle\n",
    "    width = n*2  # Need twice the space to print the shape as it is, since we cannot have a char in b/w two chars below row\n",
    "\n",
    "    # First row\n",
    "    print(char.center(width, fillchar))\n",
    "    \n",
    "    # Rows in between\n",
    "    for _ in range(1, n-1):\n",
    "        c = char + fillchar * counter + char\n",
    "        print(c.center(width, fillchar))\n",
    "        counter += 2  # Space inside triangle gets widened twice per iteration\n",
    "    \n",
    "    # Last row\n",
    "    print(f'{char}{fillchar}' * n)\n",
    "\n",
    "triangle_hollow(n)"
   ]
  }
 ],
 "metadata": {
  "kernelspec": {
   "display_name": "Python 3",
   "language": "python",
   "name": "python3"
  },
  "language_info": {
   "codemirror_mode": {
    "name": "ipython",
    "version": 3
   },
   "file_extension": ".py",
   "mimetype": "text/x-python",
   "name": "python",
   "nbconvert_exporter": "python",
   "pygments_lexer": "ipython3",
   "version": "3.6.4"
  }
 },
 "nbformat": 4,
 "nbformat_minor": 2
}
