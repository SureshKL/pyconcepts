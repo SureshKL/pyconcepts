{
 "cells": [
  {
   "cell_type": "markdown",
   "metadata": {},
   "source": [
    "# List Operations\n",
    "\n"
   ]
  },
  {
   "cell_type": "markdown",
   "metadata": {},
   "source": [
    "## Split the list into given no. of chunks\n",
    "\n",
    "**Note:** Extra values in list are ignored"
   ]
  },
  {
   "cell_type": "markdown",
   "metadata": {},
   "source": [
    "### List of values to be split"
   ]
  },
  {
   "cell_type": "code",
   "execution_count": 41,
   "metadata": {},
   "outputs": [
    {
     "name": "stdout",
     "output_type": "stream",
     "text": [
      "1 2 3 4 5 6 7 8 9 10 11 12\n"
     ]
    }
   ],
   "source": [
    "print(*range(1, 13))"
   ]
  },
  {
   "cell_type": "code",
   "execution_count": 42,
   "metadata": {},
   "outputs": [
    {
     "name": "stdout",
     "output_type": "stream",
     "text": [
      "1 2 3 4\n",
      "5 6 7 8\n",
      "9 10 11 12\n"
     ]
    }
   ],
   "source": [
    "def chunkify(seq, size):\n",
    "    \"\"\"Return list of chunks \"\"\"\n",
    "    start = 0\n",
    "    end = size\n",
    "    chunks = []\n",
    "    for _ in range(len(seq) // size):\n",
    "        chunks.append(seq[start:end])\n",
    "        start = end\n",
    "        end = end + size\n",
    "    return chunks\n",
    "\n",
    "for chunk in chunkify(range(1, 13), 4):\n",
    "    print(*chunk)"
   ]
  },
  {
   "cell_type": "markdown",
   "metadata": {},
   "source": [
    "## Combining multiple lists into one"
   ]
  },
  {
   "cell_type": "code",
   "execution_count": 43,
   "metadata": {},
   "outputs": [
    {
     "name": "stdout",
     "output_type": "stream",
     "text": [
      "[1, 2, 3, 1, 2, 3, 1, 2, 3]\n"
     ]
    }
   ],
   "source": [
    "list1 = [1, 2, 3]\n",
    "list2 = [1, 2, 3]\n",
    "list3 = [1, 2, 3]\n",
    "\n",
    "print(list1 + list2 + list3)  # Creates a new refrence for list"
   ]
  },
  {
   "cell_type": "markdown",
   "metadata": {},
   "source": [
    "## Find difference between two lists by occurrence of item in list"
   ]
  },
  {
   "cell_type": "code",
   "execution_count": 44,
   "metadata": {},
   "outputs": [
    {
     "name": "stdout",
     "output_type": "stream",
     "text": [
      "Fruits in total : Counter({'Apple': 3, 'Mango': 2, 'Banana': 2, 'Grapes': 1})\n",
      "Fruits sold out : Counter({'Banana': 2, 'Apple': 1})\n",
      "Fruits In-Stock : Counter({'Apple': 2, 'Mango': 2, 'Grapes': 1})\n"
     ]
    }
   ],
   "source": [
    "fruits = ['Apple', 'Apple', 'Apple', 'Mango', 'Mango', 'Grapes', 'Banana', 'Banana']\n",
    "sold = ['Apple', 'Banana', 'Banana']\n",
    "\n",
    "from collections import Counter\n",
    "\n",
    "f = Counter(fruits)\n",
    "s = Counter(sold)\n",
    "\n",
    "print(f'Fruits in total : {f}')\n",
    "print(f'Fruits sold out : {s}')\n",
    "print(f'Fruits In-Stock : {f-s}')\n"
   ]
  },
  {
   "cell_type": "markdown",
   "metadata": {},
   "source": [
    "## Find difference between two lists by value\n",
    "\n",
    "zip() function stops for the shortest list. Therefore using the zip_longest() from itertools we can get the additonal values from the longest list."
   ]
  },
  {
   "cell_type": "code",
   "execution_count": 45,
   "metadata": {},
   "outputs": [
    {
     "name": "stdout",
     "output_type": "stream",
     "text": [
      "3\n",
      "3\n",
      "3\n",
      "9\n",
      "10\n"
     ]
    }
   ],
   "source": [
    "import itertools\n",
    "\n",
    "list1 = [1, 2, 3]\n",
    "list2 = [4, 5, 6, 9, 10]\n",
    "\n",
    "for i, j in itertools.zip_longest(list1, list2):\n",
    "    if isinstance(i, int) and isinstance(j, int):\n",
    "        print(j-i)\n",
    "        continue\n",
    "    value = i if i else j\n",
    "    print(value)\n"
   ]
  }
 ],
 "metadata": {
  "kernelspec": {
   "display_name": "Python 3",
   "language": "python",
   "name": "python3"
  },
  "language_info": {
   "codemirror_mode": {
    "name": "ipython",
    "version": 3
   },
   "file_extension": ".py",
   "mimetype": "text/x-python",
   "name": "python",
   "nbconvert_exporter": "python",
   "pygments_lexer": "ipython3",
   "version": "3.6.4"
  }
 },
 "nbformat": 4,
 "nbformat_minor": 2
}
