{
 "cells": [
  {
   "cell_type": "markdown",
   "metadata": {},
   "source": [
    "# Metaclasses"
   ]
  },
  {
   "cell_type": "markdown",
   "metadata": {},
   "source": [
    "## Find the time taken by each method execution"
   ]
  },
  {
   "cell_type": "code",
   "execution_count": 4,
   "metadata": {},
   "outputs": [
    {
     "name": "stdout",
     "output_type": "stream",
     "text": [
      "Instance method <__main__.A object at 0x104d1b470>\n",
      "Total time taken by \"instance_method\" is 3.004960060119629 secs\n",
      "\n",
      "Static method\n",
      "Total time taken by \"static_method\" is 1.0046379566192627 secs\n",
      "\n",
      "Class method <class '__main__.A'>\n",
      "Total time taken by \"class_method\" is 2.004424810409546 secs\n",
      "\n",
      "Conventionally private method\n",
      "Total time taken by \"_private_method\" is 0.5022380352020264 secs\n",
      "\n",
      "Super private method\n"
     ]
    }
   ],
   "source": [
    "import functools\n",
    "import types\n",
    "import time\n",
    "\n",
    "class Meta(type):\n",
    "    \"\"\"\n",
    "    Meta which decorates all the methods of subclass and it's subclasses if any\n",
    "    using ``call_handler`` as decorator\n",
    "    \"\"\"\n",
    "\n",
    "    def __new__(mcs, clsname, superclasses, attributedict):\n",
    "        \"\"\"Every method gets decorated with ``call_handler``\"\"\"\n",
    "        for attr, attr_val in attributedict.items():\n",
    "            private = str(attr).replace(f'_{clsname}', '').startswith('__')\n",
    "\n",
    "            if isinstance(attr_val, types.FunctionType) and not private:\n",
    "                attributedict[attr] = mcs.call_handler(attr_val)\n",
    "\n",
    "            elif isinstance(attr_val, staticmethod) and not private:\n",
    "                attributedict[attr] = staticmethod(mcs.call_handler(attr_val.__func__))\n",
    "\n",
    "            elif isinstance(attr_val, classmethod) and not private:\n",
    "                attributedict[attr] = classmethod(mcs.call_handler(attr_val.__func__))\n",
    "\n",
    "        return type.__new__(mcs, clsname, superclasses, attributedict)\n",
    "\n",
    "    @staticmethod\n",
    "    def call_handler(func):\n",
    "        \"\"\"Decorator wrapping the functions of class\"\"\"\n",
    "        @functools.wraps(func)\n",
    "        def wrapper(*args, **kwargs):\n",
    "            # print('Before')\n",
    "            start = time.time()\n",
    "            ret_val = func(*args, **kwargs)\n",
    "            end = time.time()\n",
    "            # print('After')\n",
    "            print(f'Total time taken by \"{func.__name__}\" is {end-start} secs\\n')\n",
    "            return ret_val\n",
    "        return wrapper\n",
    "\n",
    "\n",
    "class A(metaclass=Meta):\n",
    "\n",
    "    def instance_method(self):\n",
    "        print('Instance method', self)\n",
    "        time.sleep(3)\n",
    "\n",
    "    @staticmethod\n",
    "    def static_method():\n",
    "        print('Static method')\n",
    "        time.sleep(1)\n",
    "\n",
    "    @classmethod\n",
    "    def class_method(cls):\n",
    "        print('Class method', cls)\n",
    "        time.sleep(2)\n",
    "\n",
    "    def _private_method(self):\n",
    "        print('Conventionally private method')\n",
    "        time.sleep(0.5)\n",
    "\n",
    "    def __super_private_method(self):\n",
    "        print('Super private method')\n",
    "        time.sleep(2)\n",
    "\n",
    "obj_a = A()\n",
    "obj_a.instance_method()\n",
    "obj_a.static_method()\n",
    "obj_a.class_method()\n",
    "obj_a._private_method()\n",
    "obj_a._A__super_private_method()  # This is not decorated intentionally\n"
   ]
  },
  {
   "cell_type": "code",
   "execution_count": null,
   "metadata": {
    "collapsed": true
   },
   "outputs": [],
   "source": []
  }
 ],
 "metadata": {
  "kernelspec": {
   "display_name": "Python 3",
   "language": "python",
   "name": "python3"
  },
  "language_info": {
   "codemirror_mode": {
    "name": "ipython",
    "version": 3
   },
   "file_extension": ".py",
   "mimetype": "text/x-python",
   "name": "python",
   "nbconvert_exporter": "python",
   "pygments_lexer": "ipython3",
   "version": "3.6.4"
  }
 },
 "nbformat": 4,
 "nbformat_minor": 2
}
