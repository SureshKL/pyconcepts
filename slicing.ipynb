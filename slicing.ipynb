{
 "cells": [
  {
   "cell_type": "markdown",
   "metadata": {},
   "source": [
    "# Slicing\n",
    "------------------\n",
    "\n",
    "Square bracket notation\n",
    "\\[StartIndex : EndIndex : Stride]\n",
    "- **StartIndex** : Value at StartIndex position is \"*included*\"\n",
    "- **EndIndex**   : Value at EndIndex position is \"*not included*\"\n",
    "\n",
    "Default the elements are considered from Left => Right\n",
    "\n",
    "| 0  | 1  | 2  | 3  | 4  | 5  |\n",
    "|----|----|----|----|----|----|\n",
    "| P  | Y  | T  | H  | O  | N  |\n",
    "| -6 | -5 | -4 | -3 | -2 | -1 |\n",
    "\n",
    "> When StartIndex is not specified, default consume from first element\n",
    "\n",
    "> When EndIndex is not specified, default consume till last element"
   ]
  },
  {
   "cell_type": "code",
   "execution_count": 43,
   "metadata": {},
   "outputs": [
    {
     "name": "stdout",
     "output_type": "stream",
     "text": [
      "PYTHON\n"
     ]
    }
   ],
   "source": [
    "name = 'PYTHON'\n",
    "print(name)"
   ]
  },
  {
   "cell_type": "markdown",
   "metadata": {},
   "source": [
    "### Get all elements"
   ]
  },
  {
   "cell_type": "code",
   "execution_count": 44,
   "metadata": {},
   "outputs": [
    {
     "name": "stdout",
     "output_type": "stream",
     "text": [
      "PYTHON\n",
      "PYTHON\n",
      "PYTHON\n"
     ]
    }
   ],
   "source": [
    "print(name[:])   # Without StartIndex & EndIndex\n",
    "print(name[::])  # Without StartIndex, EndIndex & Stride\n",
    "print(name[0:])  # Include StartIndex value, since EndIndex is not given default considers even the last element"
   ]
  },
  {
   "cell_type": "markdown",
   "metadata": {},
   "source": [
    "### Get first two elements"
   ]
  },
  {
   "cell_type": "code",
   "execution_count": 45,
   "metadata": {},
   "outputs": [
    {
     "name": "stdout",
     "output_type": "stream",
     "text": [
      "PYTHON -> , PY\n"
     ]
    }
   ],
   "source": [
    "print(f'{name} -> , {name[0:2]}')"
   ]
  },
  {
   "cell_type": "markdown",
   "metadata": {},
   "source": [
    "### Get last element"
   ]
  },
  {
   "cell_type": "code",
   "execution_count": 46,
   "metadata": {},
   "outputs": [
    {
     "name": "stdout",
     "output_type": "stream",
     "text": [
      "PYTHON -> N\n"
     ]
    }
   ],
   "source": [
    "print(f'{name} -> {name[-1]}')"
   ]
  },
  {
   "cell_type": "markdown",
   "metadata": {},
   "source": [
    "## Slicing with Stride in place\n",
    "----------------------------------------"
   ]
  },
  {
   "cell_type": "markdown",
   "metadata": {},
   "source": [
    "### Get elements in even position"
   ]
  },
  {
   "cell_type": "code",
   "execution_count": 51,
   "metadata": {},
   "outputs": [
    {
     "name": "stdout",
     "output_type": "stream",
     "text": [
      "PYTHON -> PTO\n"
     ]
    }
   ],
   "source": [
    "print(f'{name} -> {name[::2]}')  # Stride is 2, get elements incrementing index by 2 "
   ]
  },
  {
   "cell_type": "markdown",
   "metadata": {},
   "source": [
    "### Reverse the string"
   ]
  },
  {
   "cell_type": "code",
   "execution_count": 47,
   "metadata": {},
   "outputs": [
    {
     "name": "stdout",
     "output_type": "stream",
     "text": [
      "PYTHON -> NOHTYP\n"
     ]
    }
   ],
   "source": [
    "print(f'{name} -> {name[::-1]}')  # - Elements are retrieved from R to L, since Stride is negative"
   ]
  },
  {
   "cell_type": "code",
   "execution_count": 50,
   "metadata": {},
   "outputs": [
    {
     "name": "stdout",
     "output_type": "stream",
     "text": [
      "PYTHON -> HTY\n"
     ]
    }
   ],
   "source": [
    "print(f'{name} -> {name[3:0:-1]}' )  # StartIndex should be higher than EndIndex when Stride is negative"
   ]
  },
  {
   "cell_type": "markdown",
   "metadata": {},
   "source": [
    "### Get last 3 elements"
   ]
  },
  {
   "cell_type": "code",
   "execution_count": 55,
   "metadata": {},
   "outputs": [
    {
     "data": {
      "text/plain": [
       "'HON'"
      ]
     },
     "execution_count": 55,
     "metadata": {},
     "output_type": "execute_result"
    }
   ],
   "source": [
    "name[-3: ]"
   ]
  }
 ],
 "metadata": {
  "kernelspec": {
   "display_name": "Python 3",
   "language": "python",
   "name": "python3"
  },
  "language_info": {
   "codemirror_mode": {
    "name": "ipython",
    "version": 3
   },
   "file_extension": ".py",
   "mimetype": "text/x-python",
   "name": "python",
   "nbconvert_exporter": "python",
   "pygments_lexer": "ipython3",
   "version": "3.6.4"
  }
 },
 "nbformat": 4,
 "nbformat_minor": 2
}
